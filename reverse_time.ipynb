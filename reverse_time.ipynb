{
  "nbformat": 4,
  "nbformat_minor": 0,
  "metadata": {
    "colab": {
      "provenance": []
    },
    "kernelspec": {
      "name": "python3",
      "display_name": "Python 3"
    },
    "language_info": {
      "name": "python"
    }
  },
  "cells": [
    {
      "cell_type": "code",
      "execution_count": null,
      "metadata": {
        "id": "ffU6SNz__1Se"
      },
      "outputs": [],
      "source": [
        "# in order to get reverse integration, sf should be smalelr than s0\n",
        "def ABM_aug(f, x0, sf, s0, theta, aug=1):\n",
        "    # Constants\n",
        "    a = 34869261  # m\n",
        "    mu = 3.9860064E+14  # m^3/s^2\n",
        "    # Orbit period calculated through Kepler's Third Law\n",
        "    T = np.sqrt(a**3 * (4 * np.pi**2 / mu))\n",
        "    ########## FIXXXX\n",
        "    ds = (sf - s0) / 10000 # timestep is 10000\n",
        "    print(\"Step size (ds):\", ds)\n",
        "\n",
        "    # Calculate number of steps based on the given time interval and step size\n",
        "    s = np.arange(s0, sf, ds)\n",
        "    ns = len(s)  # Get the exact number of elements in s\n",
        "\n",
        "    # Ensure x0 is a torch tensor with the correct shape\n",
        "    if not isinstance(x0, torch.Tensor):\n",
        "        x0 = torch.tensor(x0, dtype=torch.float32)\n",
        "    if x0.dim() == 1:\n",
        "        x0 = x0.unsqueeze(0)  # Ensures x0 is [1, 6] if it's provided as [6]\n",
        "\n",
        "    # Initialize the tensor to store the simulation results\n",
        "    x = torch.zeros((ns, x0.size(1)), dtype=x0.dtype, device=x0.device)\n",
        "    # print(\"x0\",x0)\n",
        "    # Set initial state\n",
        "    x[0, :] = x0.squeeze()  # Make sure x0 is squeezed to [6]\n",
        "    # First initialize with an RK4 step for stability in starting the integration\n",
        "    for k in range(3):\n",
        "        if k + 1 < ns:\n",
        "            k1 = ds * f(s[k], x[k, :],theta,aug)\n",
        "            k2 = ds * f(s[k] + ds/2, x[k, :] + k1/2,theta,aug)\n",
        "            k3 = ds * f(s[k] + ds/2, x[k, :] + k2/2,theta,aug)\n",
        "            k4 = ds * f(s[k] + ds, x[k, :] + k3,theta,aug)\n",
        "            dx = (k1 + 2*k2 + 2*k3 + k4) / 6\n",
        "            x[k + 1, :] = x[k, :] + dx\n",
        "\n",
        "    # ABM integration\n",
        "    for k in range(3, ns - 1):\n",
        "        if k - 3 >= 0:  # Make sure indices don't go out of bounds\n",
        "            f_m3 = f(s[k-3], x[k-3, :], theta,aug)\n",
        "            f_m2 = f(s[k-2], x[k-2, :], theta,aug)\n",
        "            f_m1 = f(s[k-1], x[k-1, :], theta,aug)\n",
        "            f_0 = f(s[k], x[k, :], theta, aug)\n",
        "\n",
        "            # Predictor\n",
        "            dx = (ds/24) * (55 * f_0 - 59 * f_m1 + 37 * f_m2 - 9 * f_m3)\n",
        "            x[k + 1, :] = x[k, :] + dx\n",
        "\n",
        "            # Evaluate at the predicted next step (ensure not at the last step)\n",
        "            if k + 1 < ns - 1:\n",
        "                f_p1 = f(s[k + 1], x[k + 1, :],theta,aug)\n",
        "                # Corrector\n",
        "                dx = (ds/24) * (9 * f_p1 + 19 * f_0 - 5 * f_m1 + f_m2)\n",
        "                x[k + 1, :] = x[k, :] + dx\n",
        "\n",
        "    # Return the results\n",
        "\n",
        "    return x"
      ]
    }
  ]
}