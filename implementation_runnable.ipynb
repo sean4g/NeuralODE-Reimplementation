{
  "nbformat": 4,
  "nbformat_minor": 0,
  "metadata": {
    "colab": {
      "provenance": []
    },
    "kernelspec": {
      "name": "python3",
      "display_name": "Python 3"
    },
    "language_info": {
      "name": "python"
    }
  },
  "cells": [
    {
      "cell_type": "code",
      "execution_count": 2,
      "metadata": {
        "id": "eYMdVsP2qOUW"
      },
      "outputs": [],
      "source": [
        "import time\n",
        "from typing import List, Dict\n",
        "\n",
        "import scipy.integrate\n",
        "import autograd.numpy as np\n",
        "\n",
        "import torch\n",
        "import torchvision.models as models\n",
        "import torchvision.transforms as transforms\n",
        "import torch.nn.functional as F\n",
        "import torchvision.datasets\n",
        "import torch.nn as nn\n",
        "import torch.optim as optim\n",
        "from torch.utils.data import DataLoader, TensorDataset\n",
        "\n",
        "import matplotlib.pyplot as plt"
      ]
    },
    {
      "cell_type": "markdown",
      "source": [
        "The first step was to model our Neural Network (NN), which gives the model $f(z(t), t, \\theta)$ to how the hidden state changes. In the usual case of an usual, discrete NN, that change corresponds to the following update:\n",
        "\n",
        "$$ \\vec{z}_{t+1} = \\vec{z}_t + f(\\vec{z}(t), t, \\theta)$$\n",
        "\n",
        "However, using our ODE formulation, the dynamics of the hidden state becomes:\n",
        "\n",
        "$$ \\frac{d\\vec{z}(t)}{dt} = f(\\vec{z}(t), t, \\theta)$$"
      ],
      "metadata": {
        "id": "tm7NMcgO2Y_T"
      }
    },
    {
      "cell_type": "code",
      "source": [
        "#1d network to model\n",
        "# i.e. we are defining dz(t)/dt = f(z(t), t, theta), f given in the nn below.\n",
        "\n",
        "class SampleODE(nn.Module):\n",
        "  def __init__(self):\n",
        "      super(SampleODE, self).__init__()\n",
        "      self.f = nn.Sequential(\n",
        "          nn.Linear(1, 25),\n",
        "          nn.ReLU(),\n",
        "          nn.Linear(25, 1)\n",
        "      )\n",
        "\n",
        "  def forward(self, t, z):\n",
        "    return self.f(z)"
      ],
      "metadata": {
        "id": "eZWgiPp2rQkn"
      },
      "execution_count": 3,
      "outputs": []
    },
    {
      "cell_type": "markdown",
      "source": [
        "The second step was to solve the ODE. Here, a simple implemetation of the Euler method for integration was used to solve the differential equation in the form of $ \\frac{d\\vec{z}(t)}{dt} = f(\\vec{z}(t), t, \\theta)$. The Euler method can be written as:\n",
        "$$\\vec{z}_t = \\vec{z}_{t-1} + h f(\\vec{z}(t), t, \\theta)$$"
      ],
      "metadata": {
        "id": "ANlT7j423zgA"
      }
    },
    {
      "cell_type": "code",
      "source": [
        "# solve the ODE:\n",
        "# backwards pass, this should take the AUGMENTED Z, and have a function f to solve for such.\n",
        "# forwards pass, take the normal dz(t)/dt = f(z(t), t, theta), find z values.\n",
        "\n",
        "def ode_solve(z0, t0, t1, f):\n",
        "  h = .5 # step size\n",
        "  t = np.linspace(t0, t1, int((abs(t1 - t0))/h))\n",
        "  z = z0\n",
        "  for t in range(len(t)):\n",
        "    z = z + h * f(t, z)\n",
        "  return z\n",
        "\n",
        "\n",
        "\n",
        "def adjoint_solve(atf, t0, t1, grad_f):\n",
        "  # solve the ode backwards\n",
        "  h = 0.05\n",
        "  steps = int(abs(t1 - t0) / h)\n",
        "  t = np.linspace(t0, t1, steps + 1)\n",
        "  z = atf\n",
        "  for i in range(1, len(t)):\n",
        "    time = t[i]\n",
        "    z = z + h * grad_f\n",
        "  return z"
      ],
      "metadata": {
        "id": "TwsWPa8IyIuu"
      },
      "execution_count": 4,
      "outputs": []
    },
    {
      "cell_type": "markdown",
      "source": [
        "Next, we defined the dynamics of the augmented state.\n",
        "\n",
        "A few functions are utilized to describe how the augmented state evolves over time, starting with `grad_f`, the gradient of the function f (parameterized by the NN described previously) with respect to z, t and $\\theta$."
      ],
      "metadata": {
        "id": "NOm2PX9P5P9R"
      }
    },
    {
      "cell_type": "code",
      "source": [
        "def grad_f(z, t, p, a, module):\n",
        "  '''\n",
        "  Calculates the gradient of the function f with respect to z, t and p (parameters theta).\n",
        "\n",
        "  ---\n",
        "  Inputs:\n",
        "    z: np.array\n",
        "      Hidden state\n",
        "    t: float\n",
        "      Time\n",
        "    p: ##type##\n",
        "      Parameters, theta\n",
        "    a: ##type##\n",
        "      Adjoint, a\n",
        "    module: function\n",
        "      Function f\n",
        "  ---\n",
        "  Outputs:\n",
        "    adfdz: ##type##\n",
        "      Derivative of f wrt z\n",
        "    adfdt: ##type##\n",
        "      Derivative of f wrt t\n",
        "    adfdp: ##type##\n",
        "      Derivative of f wrt theta\n",
        "    f: ##type##\n",
        "      Function f evaluated at given z and t\n",
        "  '''\n",
        "  with torch.set_grad_enabled(True):\n",
        "    # ensure that we can find gradients using autograd\n",
        "    z.requires_grad_(True)\n",
        "    t.requires_grad_(True)\n",
        "    p.requires_grad_(True)\n",
        "\n",
        "    # calculate output f; inputs are z, t\n",
        "    f = module(z, t)\n",
        "    # p = module.parameters() # in case we need the parameters after function calculation ?\n",
        "    # torch autograd grad with grad_outputs computes jacobian product\n",
        "    adfdz = torch.autograd.grad(f, z, grad_outputs=(a), allow_unused=True)\n",
        "    adfdt = torch.autograd.grad(f, t, grad_outputs=(a), allow_unused=True)\n",
        "    adfdp = torch.autograd.grad(f, p, grad_outputs=(a), allow_unused=True)\n",
        "\n",
        "  return adfdz, adfdt, adfdp, f"
      ],
      "metadata": {
        "id": "3raZatlgW7KO"
      },
      "execution_count": 5,
      "outputs": []
    },
    {
      "cell_type": "markdown",
      "source": [
        "\n",
        "The next function, `aug_dynamics`, is used to calculate how the augmented state $\\vec{s}(t) = [\\vec{z}(t), \\vec{a}(t), \\frac{\\partial L}{\\partial\\theta}, \\frac{\\partial L}{\\partial t}]$ evolves over time. In other words, it returns $\\frac{d\\vec{s}(t)}{dt}$."
      ],
      "metadata": {
        "id": "3wIyYciQ8uyx"
      }
    },
    {
      "cell_type": "code",
      "source": [
        "def aug_dynamics(z, t, theta, a, module):\n",
        "  '''\n",
        "  Defines dynamics of augmented state.\n",
        "  ---\n",
        "  Inputs:\n",
        "    z: np.array\n",
        "      Hidden state\n",
        "    t: float\n",
        "      Time\n",
        "    theta: ##type##\n",
        "      Dynamic parameters\n",
        "    a: ##type##\n",
        "      Adjoint, a\n",
        "    delL_deltheta: ##type##\n",
        "      Derivative of loss wrt theta\n",
        "    delL_delt: ##type##\n",
        "      Derivative of loss wrt t\n",
        "    module: function\n",
        "      Function f\n",
        "\n",
        "  ---\n",
        "\n",
        "  Returns:\n",
        "    delz_delt: np.array\n",
        "      Time derivative of state, z\n",
        "\n",
        "    dela_delt: ##[type]##\n",
        "      Time derivative of adjoint, a\n",
        "\n",
        "    deldelL_deltheta_delt: ##[type]##\n",
        "      Time derivative of loss gradient wrt dynamic parameters, delL_deltheta\n",
        "\n",
        "    delL_delt: ##[type]##\n",
        "      Time derivative of loss, L\n",
        "\n",
        "  '''\n",
        "  # Build augmented state: [z, a, delL_deltheta, delL_delt]\n",
        "  s = [z, a, _, _] # delL_deltheta and delL_delt are missing since we don't have them yet! But we won`t need them just yet\n",
        "\n",
        "  # Calculate derivatives of f, as well as f itself (delz_delt)\n",
        "  delf_delz, delf_delt, delf_deltheta, delz_delt = grad_f(z, t, theta, a, module)\n",
        "\n",
        "  # Time derivative of adjoint\n",
        "  dela_delt = -a.T@delf_delz # Vector-jacobian product\n",
        "\n",
        "  # Time derivative of loss gradient\n",
        "  deldelL_deltheta_delt = -a.T@delf_deltheta # Vector-jacobian product\n",
        "\n",
        "  # Time derivative of loss\n",
        "  delL_delt = -a.T@delf_delt # Vector-jacobian product\n",
        "\n",
        "  return (delz_delt, dela_delt, deldelL_deltheta_delt, delL_delt)"
      ],
      "metadata": {
        "id": "upvD4vuw8has"
      },
      "execution_count": 6,
      "outputs": []
    },
    {
      "cell_type": "markdown",
      "source": [
        "Finally, function `gradient_loss`  calculates the gradients of the loss: $[\\frac{\\partial L}{\\partial \\vec{z}(t_0)}, \\frac{\\partial L}{\\partial \\theta}, \\frac{\\partial L}{\\partial t_0}, \\frac{\\partial L}{\\partial t_1}]$.\n",
        "\n",
        "Function `ode_solve_augstate` is used to solve the augmented state dynamics."
      ],
      "metadata": {
        "id": "Avh3i1s0AMzk"
      }
    },
    {
      "cell_type": "code",
      "source": [
        "def gradient_loss(theta, t0, t1, zt1, delL_delzt1, module):\n",
        "  '''\n",
        "  Reverse-mode derivative of an ODE initial value problem.\n",
        "  Returns gradients of the loss.\n",
        "  ---\n",
        "  Inputs:\n",
        "    theta: np.array\n",
        "      Dynamic parameters\n",
        "\n",
        "    t0: float\n",
        "      Start time\n",
        "\n",
        "    t1: float\n",
        "      Stop time\n",
        "\n",
        "    zt0:\n",
        "      initial state\n",
        "\n",
        "    zt1: np.array\n",
        "      Final state\n",
        "\n",
        "    delL_delzt1: ##[type]##\n",
        "      Loss gradient at stop time\n",
        "\n",
        "  ---\n",
        "\n",
        "  Returns:\n",
        "    delL_delzt0: ##[type]##\n",
        "      Loss gradient at start time\n",
        "\n",
        "    delL_deltheta: ##[type]##\n",
        "      Loss gradient wrt dynamic parameters\n",
        "\n",
        "    delL_delt0: ##[type]##\n",
        "      Loss gradient wrt initial time\n",
        "\n",
        "    delL_delt1: ##[type]##\n",
        "      Loss gradient wrt stop time\n",
        "\n",
        "  '''\n",
        "  # Calculate f(z(t1), t1, theta)\n",
        "  ft1 = module(zt1, t1, theta)\n",
        "\n",
        "  # Calculate gradient of loss wrt t1\n",
        "  delL_delt1 = delL_delzt1.T@ft1\n",
        "\n",
        "  # Define initial augmented state\n",
        "  s1 = np.array([zt1, delL_delzt1, np.zeros(theta.shape[0]), -delL_delt1]) #s1 = [zt1, delL_delzt1, delL_deltheta1, -delL_delt1]\n",
        "\n",
        "  # Solve reverse-time ODE\n",
        "  s0 = ode_solve_augstate(s1, t0, t1, aug_dynamics, zt1, theta, module)\n",
        "\n",
        "  #s0 = [zt0, delL_delzt0, delL_deltheta0, -delL_delt0]\n",
        "  zt0 = s0[0]\n",
        "  delL_delzt0 = s0[1]\n",
        "  delL_deltheta = s0[2]\n",
        "  delL_delt0 = -s0[3]\n",
        "\n",
        "  # Return gradients\n",
        "  return delL_delzt0, delL_deltheta, delL_delt0, delL_delt1"
      ],
      "metadata": {
        "id": "JpoLazi6AHjX"
      },
      "execution_count": 7,
      "outputs": []
    },
    {
      "cell_type": "code",
      "source": [
        "def ode_solve_augstate(s1, t0, t1, dynamics, z, theta, module):\n",
        "  '''Solves the ODE for the augmented state dynamics.'''\n",
        "\n",
        "  # Initializing parameters\n",
        "  h = .5 # step size\n",
        "  t = np.linspace(t0, t1, int((abs(t1 - t0))/h))\n",
        "\n",
        "  # Initial variables at t1\n",
        "  s = s1 # start with s1\n",
        "  a = s[1] #adjoint is the second element of s\n",
        "\n",
        "\n",
        "  # Integrating for each timestep\n",
        "  for t in range(len(t)):\n",
        "\n",
        "    # Euler method\n",
        "    s = s - h * dynamics(z, t, theta, a, module)\n",
        "\n",
        "    #Update z and a\n",
        "    z = s[0] #hidden state is the first element of s\n",
        "    a = s[1] #adjoint is the second element of s\n",
        "\n",
        "  return s1"
      ],
      "metadata": {
        "id": "trhFVIZ5IC0O"
      },
      "execution_count": 8,
      "outputs": []
    },
    {
      "cell_type": "code",
      "source": [
        "## design a data loader\n",
        "import torch\n",
        "from torch.utils.data import Dataset, DataLoader\n",
        "\n",
        "class CustomDataset(Dataset):\n",
        "    def __init__(self, data):\n",
        "        self.data = data\n",
        "\n",
        "    def __len__(self):\n",
        "        return len(self.data)\n",
        "\n",
        "    def __getitem__(self, idx):\n",
        "        return self.data[idx]"
      ],
      "metadata": {
        "id": "Lbl142o7kpws"
      },
      "execution_count": 9,
      "outputs": []
    },
    {
      "cell_type": "code",
      "source": [
        "class NeuralODE(nn.Module):\n",
        "    def __init__(self, module):\n",
        "        super(NeuralODE, self).__init__()\n",
        "        # our func should be a seperate nn.Module, with a forward func\n",
        "        self.module = module\n",
        "\n",
        "    def forward(self, z0, t):\n",
        "        p = self.module.parameters()\n",
        "\n",
        "        flat_p = []\n",
        "        for params in p:\n",
        "          flat_p.append(params.flatten())\n",
        "        flat_p = torch.cat(flat_p)\n",
        "\n",
        "        z = ODEForwardBackward.apply(z0, t, flat_p, self.module)\n",
        "        return z[-2].view(-1, 1)"
      ],
      "metadata": {
        "id": "sSPaju6e41E7"
      },
      "execution_count": 10,
      "outputs": []
    },
    {
      "cell_type": "code",
      "source": [
        "# we have to create a custom forward and backwards pass\n",
        "# use torch.autograd.Function for this purpose\n",
        "\n",
        "class ODEForwardBackward(torch.autograd.Function):\n",
        "    @staticmethod\n",
        "    def forward(ctx, z0, t, p, func):\n",
        "      '''\n",
        "      Finds the z values by solving the ODE\n",
        "      ---\n",
        "      Inputs:\n",
        "        z0: initial state\n",
        "        t: time vector\n",
        "        p: parameters\n",
        "        func: f(z(t), t, theta)\n",
        "      ---\n",
        "      Returns:\n",
        "        z: filled z matrix\n",
        "      '''\n",
        "      # because we have our own backwards method, we do not need to track any gradients:\n",
        "      # for now lets assume z is a vector, no batch\n",
        "      t_len = t.size(0)\n",
        "      z = torch.zeros(t_len, z0.size(0))\n",
        "      z[0] = z0\n",
        "      for i in range(t_len - 1):\n",
        "        # func is a nn.Module. it should apply forward when calling func(--)\n",
        "        res = ode_solve(z0, t[i], t[i+1], func)\n",
        "        z[i] = res\n",
        "\n",
        "      # save the function and t, z, p for backwards pass\n",
        "      ctx.func = func\n",
        "      ctx.save_for_backward(z.clone(), t, p)\n",
        "\n",
        "      return z\n",
        "\n",
        "    @staticmethod\n",
        "    # pytorch AUTOMATICALLY gives us the loss gradient over the entire function.\n",
        "    # therefore, from that gradient, we must return dldz0, dldt, and dldp\n",
        "    # this is outlined in the appendix\n",
        "    def backward(ctx, loss_grad):\n",
        "      '''\n",
        "      Finds our gradients wrt our inputs in forward pass\n",
        "      ---\n",
        "      Inputs:\n",
        "        loss_grad: total loss gradient over z\n",
        "      ---\n",
        "      Returns:\n",
        "        grad_z0: Loss gradient wrt z0\n",
        "        grad_t: loss gradient wrt t\n",
        "        grad_p: loss gradient wrt parameters\n",
        "      '''\n",
        "\n",
        "      #adjoint is dldz\n",
        "      a = loss_grad\n",
        "\n",
        "      # how can we get the gradients wrt our inputs?\n",
        "      # dAaug/dt = -[a∂f/∂z, a∂f/∂θ, a∂f/∂t], integrate both sides\n",
        "\n",
        "      # get our saved tensors\n",
        "      func = ctx.func\n",
        "      z, t, p = ctx.saved_tensors\n",
        "      adfdz, adfdt, adfdp, out = grad_f(z, t, p, a, func)\n",
        "\n",
        "      if adfdz[0] is None:\n",
        "        adfdz = torch.zeros(z.size())\n",
        "      if adfdt[0] is None:\n",
        "        adfdt = torch.zeros(t.size())\n",
        "      if adfdp[0] is None:\n",
        "        adfdp = torch.zeros(p.size())\n",
        "\n",
        "      # we can now solve for our gradients by using augmented dynamics\n",
        "      # can we do it one by one too?\n",
        "      for i in range(len(t) - 1, 1, -1):\n",
        "        grad_z0 = adjoint_solve(a, t[i], t[i-1], -adfdz[-1])\n",
        "        grad_t = adjoint_solve(t, t[i], t[i-1], -adfdt[-1])\n",
        "        grad_p = adjoint_solve(p, t[i], t[i-1], -adfdp[-1])\n",
        "\n",
        "      return grad_z0, grad_t, grad_p, None"
      ],
      "metadata": {
        "id": "HWGu1b9Q6-mX"
      },
      "execution_count": 11,
      "outputs": []
    },
    {
      "cell_type": "code",
      "source": [
        "# model evaluation\n",
        "ODE = SampleODE()\n",
        "model = NeuralODE(ODE)\n",
        "\n",
        "# very simple problem\n",
        "x = np.linspace(-4*np.pi, 4*np.pi, 300)\n",
        "y = np.cos(x)\n",
        "\n",
        "x_tensor = torch.tensor(x, dtype=torch.float32).view(-1, 1)\n",
        "y_tensor = torch.tensor(y, dtype=torch.float32).view(-1, 1)\n",
        "\n",
        "dataset = TensorDataset(x_tensor, y_tensor)\n",
        "dataloader = DataLoader(dataset, batch_size=1, shuffle=True)\n",
        "\n",
        "# loss and optimizer\n",
        "criterion = nn.MSELoss()\n",
        "optimizer = torch.optim.Adam(model.parameters(), lr=0.1)\n",
        "\n",
        "# training\n",
        "t = np.linspace(1, 10, num=10)\n",
        "t_tensor = torch.tensor(t, dtype=torch.float32).view(-1, 1)\n",
        "\n",
        "model.train()\n",
        "epochs = 10\n",
        "# for now, do batch size of 1, for simpler adjustments in ODE\n",
        "for epoch in range(epochs):\n",
        "  total_loss = 0\n",
        "  for x_1, y_1 in dataloader:\n",
        "    x_1 = torch.autograd.Variable(x_1, requires_grad=True)\n",
        "    y_1 = torch.autograd.Variable(y_1, requires_grad=True)\n",
        "\n",
        "    optimizer.zero_grad()\n",
        "    y_pred = model(x_1, t_tensor)\n",
        "    loss = criterion(y_pred, y_1)\n",
        "    total_loss += loss.item()\n",
        "    loss.backward()\n",
        "    optimizer.step()\n",
        "  average_loss = total_loss / len(x)\n",
        "  print (\"Epoch:\", epoch, \"Average Loss:\", average_loss)"
      ],
      "metadata": {
        "colab": {
          "base_uri": "https://localhost:8080/"
        },
        "id": "_kQl35zR2L_0",
        "outputId": "11052f75-993e-4a4e-8fc5-eae551e08b25"
      },
      "execution_count": 12,
      "outputs": [
        {
          "output_type": "stream",
          "name": "stdout",
          "text": [
            "Epoch: 0 Average Loss: 53.47535101177016\n",
            "Epoch: 1 Average Loss: 53.491649918898474\n",
            "Epoch: 2 Average Loss: 53.491649918898474\n",
            "Epoch: 3 Average Loss: 53.491649918898474\n",
            "Epoch: 4 Average Loss: 53.49315237447076\n",
            "Epoch: 5 Average Loss: 53.49165121366037\n",
            "Epoch: 6 Average Loss: 53.49164991850111\n",
            "Epoch: 7 Average Loss: 53.49273078452835\n",
            "Epoch: 8 Average Loss: 53.49165003962427\n",
            "Epoch: 9 Average Loss: 53.491650083506634\n"
          ]
        }
      ]
    },
    {
      "cell_type": "code",
      "source": [
        "x_test = np.linspace(0*np.pi, 2*np.pi, 50)\n",
        "y_test = np.cos(x_test)\n",
        "\n",
        "testset = TensorDataset(torch.tensor(x_test, dtype=torch.float32).view(-1, 1), torch.tensor(y_test, dtype=torch.float32).view(-1, 1))\n",
        "testloader = DataLoader(testset, batch_size=1)\n",
        "\n",
        "\n",
        "model.eval()\n",
        "\n",
        "out = []\n",
        "for x_1, y_1 in testloader:\n",
        "  x_1 = torch.autograd.Variable(x_1, requires_grad=True)\n",
        "  y_1 = torch.autograd.Variable(y_1, requires_grad=True)\n",
        "\n",
        "  y_pred = model(x_1, t_tensor).item()\n",
        "\n",
        "  out.append(y_pred)\n",
        "\n",
        "print(out)\n",
        "\n",
        "plt.plot(x_test, out, label='Model prediction')\n",
        "plt.scatter(x, y, c='red', label='Datapoints')\n",
        "plt.xlabel('x')\n",
        "plt.ylabel('y')\n",
        "plt.title('Model vs. Dataset')\n",
        "plt.legend()\n",
        "plt.show()"
      ],
      "metadata": {
        "colab": {
          "base_uri": "https://localhost:8080/",
          "height": 509
        },
        "id": "fY8AtdEy2QXT",
        "outputId": "4258d4c6-afba-4102-a079-47d03c758b9d"
      },
      "execution_count": 13,
      "outputs": [
        {
          "output_type": "stream",
          "name": "stdout",
          "text": [
            "[3.0062125233598636e-07, 0.1282285749912262, 0.2564568519592285, 0.38468509912490845, 0.5129134654998779, 0.6411417126655579, 0.7693699598312378, 0.8975982666015625, 1.0258264541625977, 1.1540546417236328, 1.2822829484939575, 1.4105112552642822, 1.5387394428253174, 1.666967749595642, 1.7951960563659668, 1.9234243631362915, 2.0516529083251953, 2.1798810958862305, 2.3081092834472656, 2.43633770942688, 2.564565896987915, 2.69279408454895, 2.8210225105285645, 2.9492506980895996, 3.0774788856506348, 3.205707311630249, 3.333935499191284, 3.4621639251708984, 3.5903921127319336, 3.7186203002929688, 3.846848726272583, 3.975076913833618, 4.103304862976074, 4.231533050537109, 4.3597612380981445, 4.48798942565918, 4.616217613220215, 4.744446277618408, 4.872674465179443, 5.0009026527404785, 5.129130840301514, 5.257359027862549, 5.385587215423584, 5.513815879821777, 5.6420440673828125, 5.770272254943848, 5.898500442504883, 6.026728630065918, 6.154956817626953, 6.2831854820251465]\n"
          ]
        },
        {
          "output_type": "display_data",
          "data": {
            "text/plain": [
              "<Figure size 640x480 with 1 Axes>"
            ],
            "image/png": "[encoded data removed]"
          },
          "metadata": {}
        }
      ]
    }
  ]
}